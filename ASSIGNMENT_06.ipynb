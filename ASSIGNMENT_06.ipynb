{
  "nbformat": 4,
  "nbformat_minor": 0,
  "metadata": {
    "colab": {
      "name": "ASSIGNMENT-06.ipynb",
      "provenance": [],
      "authorship_tag": "ABX9TyMWbpAQKnK/RnPGj6Ya8iyj",
      "include_colab_link": true
    },
    "kernelspec": {
      "name": "python3",
      "display_name": "Python 3"
    },
    "language_info": {
      "name": "python"
    }
  },
  "cells": [
    {
      "cell_type": "markdown",
      "metadata": {
        "id": "view-in-github",
        "colab_type": "text"
      },
      "source": [
        "<a href=\"https://colab.research.google.com/github/ashish016verma/Assignment/blob/main/ASSIGNMENT_06.ipynb\" target=\"_parent\"><img src=\"https://colab.research.google.com/assets/colab-badge.svg\" alt=\"Open In Colab\"/></a>"
      ]
    },
    {
      "cell_type": "markdown",
      "metadata": {
        "id": "AkTxIu-wNuXi"
      },
      "source": [
        "Gradient_Descent_on_higher_order_polynomial_function\n"
      ]
    },
    {
      "cell_type": "code",
      "metadata": {
        "id": "Zo8KJYtgYuxB"
      },
      "source": [
        "import numpy as np \n",
        "import sympy as sym\n",
        "import matplotlib.pyplot as plt\n"
      ],
      "execution_count": 2,
      "outputs": []
    },
    {
      "cell_type": "code",
      "metadata": {
        "id": "ZQJnD5CaZmb3"
      },
      "source": [
        "from matplotlib import cycler\n",
        "colors = cycler('color',\n",
        "                ['#EE6666', '#3388BB', '#9988DD',\n",
        "                 '#EECC55', '#88BB44', '#FFBBBB'])\n",
        "plt.rc('axes', facecolor='#E6E6E6', edgecolor='none',\n",
        "       axisbelow=True, grid=True, prop_cycle=colors)\n",
        "plt.rc('grid', color='w', linestyle='solid')\n",
        "plt.rc('xtick', direction='out', color='gray')\n",
        "plt.rc('ytick', direction='out', color='gray')\n",
        "plt.rc('patch', edgecolor='#E6E6E6')\n",
        "plt.rc('lines', linewidth=2)\n"
      ],
      "execution_count": 3,
      "outputs": []
    },
    {
      "cell_type": "code",
      "metadata": {
        "id": "zn5q3p8gZtvH"
      },
      "source": [
        "X = sym.Symbol(\"x\")"
      ],
      "execution_count": 4,
      "outputs": []
    },
    {
      "cell_type": "code",
      "metadata": {
        "id": "HcRbDuaRaqdn"
      },
      "source": [
        "Y=+0.1*X**8-0.2*X**7+0.3*X**6-X**5+X**4-15*X+9*X**3-X**2-10"
      ],
      "execution_count": 5,
      "outputs": []
    },
    {
      "cell_type": "code",
      "metadata": {
        "colab": {
          "base_uri": "https://localhost:8080/",
          "height": 37
        },
        "id": "Bc-6OOD5a7L6",
        "outputId": "a3a1320f-0c02-43e8-96a7-9070ceb5d0c2"
      },
      "source": [
        "Y"
      ],
      "execution_count": 6,
      "outputs": [
        {
          "output_type": "execute_result",
          "data": {
            "text/latex": "$\\displaystyle 0.1 x^{8} - 0.2 x^{7} + 0.3 x^{6} - x^{5} + x^{4} + 9 x^{3} - x^{2} - 15 x - 10$",
            "text/plain": [
              "0.1*x**8 - 0.2*x**7 + 0.3*x**6 - x**5 + x**4 + 9*x**3 - x**2 - 15*x - 10"
            ]
          },
          "metadata": {
            "tags": []
          },
          "execution_count": 6
        }
      ]
    },
    {
      "cell_type": "code",
      "metadata": {
        "id": "umGX4jLJa95j"
      },
      "source": [
        "#Actual Minima"
      ],
      "execution_count": 7,
      "outputs": []
    },
    {
      "cell_type": "code",
      "metadata": {
        "id": "yjZU0HFQbFU4"
      },
      "source": [
        "dY = sym.diff(Y)\n",
        "\n",
        "d2Y = sym.diff(Y)\n",
        "polyRoots = sym.solveset(Y, X)\n",
        "dRoots = sym.solveset(dY, X)\n",
        "\n",
        "d2Roots = sym.solveset(d2Y, X)"
      ],
      "execution_count": 8,
      "outputs": []
    },
    {
      "cell_type": "code",
      "metadata": {
        "id": "PQ1FBXvPLoqA"
      },
      "source": [
        "\n",
        "dRoots = sym.solveset(sym.diff(Y), X)\n",
        "\n",
        "dRoots = [root for root in dRoots if root.is_real]"
      ],
      "execution_count": 9,
      "outputs": []
    },
    {
      "cell_type": "code",
      "metadata": {
        "id": "Yaf45ok5LrJm"
      },
      "source": [
        "minima = np.array([root for root in dRoots if sym.diff(sym.diff(Y)).evalf(subs={\"x\": root}) > 0 ])"
      ],
      "execution_count": 10,
      "outputs": []
    },
    {
      "cell_type": "code",
      "metadata": {
        "colab": {
          "base_uri": "https://localhost:8080/"
        },
        "id": "wh05q-R_L8yd",
        "outputId": "110235b6-28ed-4dae-cb67-bae74bd8ffcb"
      },
      "source": [
        "minima"
      ],
      "execution_count": 11,
      "outputs": [
        {
          "output_type": "execute_result",
          "data": {
            "text/plain": [
              "array([-1.11591693222185, 0.773510942505233], dtype=object)"
            ]
          },
          "metadata": {
            "tags": []
          },
          "execution_count": 11
        }
      ]
    },
    {
      "cell_type": "code",
      "metadata": {
        "id": "r3_hoxWhMCrk"
      },
      "source": [
        "temp = np.array([(root, Y.evalf(subs={\"x\":root})) for root in minima])\n",
        "\n",
        "globalminima = [t[0] for t in temp if t[1] is min(temp[:,1])]"
      ],
      "execution_count": 13,
      "outputs": []
    },
    {
      "cell_type": "markdown",
      "metadata": {
        "id": "5Ytsgkv1MNlI"
      },
      "source": [
        "**Plotting the function**"
      ]
    },
    {
      "cell_type": "markdown",
      "metadata": {
        "id": "gFK4kiwVMRJQ"
      },
      "source": [
        ""
      ]
    },
    {
      "cell_type": "code",
      "metadata": {
        "id": "vWhrZ0GBMip9"
      },
      "source": [
        "x = np.linspace(-2, 2, 1000)"
      ],
      "execution_count": 14,
      "outputs": []
    },
    {
      "cell_type": "code",
      "metadata": {
        "colab": {
          "base_uri": "https://localhost:8080/",
          "height": 283
        },
        "id": "7cVOoSzNM0Xb",
        "outputId": "ca6155d6-e86e-48fc-80db-76d32084e4a4"
      },
      "source": [
        "# Plot of the function\n",
        "plt.plot(x, eval(str(Y)))"
      ],
      "execution_count": 15,
      "outputs": [
        {
          "output_type": "execute_result",
          "data": {
            "text/plain": [
              "[<matplotlib.lines.Line2D at 0x7fdab662f690>]"
            ]
          },
          "metadata": {
            "tags": []
          },
          "execution_count": 15
        },
        {
          "output_type": "display_data",
          "data": {
            "image/png": "[encoded data removed]",
            "text/plain": [
              "<Figure size 432x288 with 1 Axes>"
            ]
          },
          "metadata": {
            "tags": [],
            "needs_background": "dark"
          }
        }
      ]
    },
    {
      "cell_type": "code",
      "metadata": {
        "colab": {
          "base_uri": "https://localhost:8080/",
          "height": 283
        },
        "id": "X5FUdY7rM9Yb",
        "outputId": "f4444082-6a72-433c-f165-dde703023ce2"
      },
      "source": [
        "# Plot of its gradient\n",
        "plt.plot(x, eval(str(sym.diff(Y))))"
      ],
      "execution_count": 16,
      "outputs": [
        {
          "output_type": "execute_result",
          "data": {
            "text/plain": [
              "[<matplotlib.lines.Line2D at 0x7fdab6130290>]"
            ]
          },
          "metadata": {
            "tags": []
          },
          "execution_count": 16
        },
        {
          "output_type": "display_data",
          "data": {
            "image/png": "[encoded data removed]",
            "text/plain": [
              "<Figure size 432x288 with 1 Axes>"
            ]
          },
          "metadata": {
            "tags": [],
            "needs_background": "dark"
          }
        }
      ]
    },
    {
      "cell_type": "markdown",
      "metadata": {
        "id": "hDQeELGLNQ7X"
      },
      "source": [
        "GRADIENT DESCENT"
      ]
    },
    {
      "cell_type": "code",
      "metadata": {
        "id": "n5Fk_iaHNH2G"
      },
      "source": [
        "def gradientDescentSym(Y,point=0, mingrad=0.1, learning_rate=0.1, trace=False, max_iterations=1000):\n",
        "\n",
        "  if trace:\n",
        "    tracegrad = []\n",
        "    tracepoint = [point]\n",
        "  grad = mingrad\n",
        "\n",
        "  iteration=0\n",
        "  while np.abs(grad) >= mingrad and iteration < max_iterations :\n",
        "    iteration+=1\n",
        "    grad = sym.diff(Y).evalf(subs={\"x\":point})\n",
        "    point -= learning_rate*grad*point\n",
        "    print(point, grad)\n",
        "    if trace:\n",
        "      tracegrad.append(grad)\n",
        "      tracepoint.append(point)\n",
        "    \n",
        "  if trace:\n",
        "    return tracegrad, tracepoint\n",
        "  return point"
      ],
      "execution_count": 19,
      "outputs": []
    },
    {
      "cell_type": "markdown",
      "metadata": {
        "id": "yR0kmRz3ONFc"
      },
      "source": [
        "Learning rate = 0.1, mingrad=0.1"
      ]
    },
    {
      "cell_type": "code",
      "metadata": {
        "colab": {
          "base_uri": "https://localhost:8080/"
        },
        "id": "Y1l4UEK_ORub",
        "outputId": "eee24e0c-d66f-4018-ab87-ca898b93fe18"
      },
      "source": [
        "grads, points = gradientDescentSym(Y, point=1, trace=True)"
      ],
      "execution_count": 20,
      "outputs": [
        {
          "output_type": "stream",
          "text": [
            "-0.0200000000000000 10.2000000000000\n",
            "-0.0498984656117013 -14.9492328058506\n",
            "-0.123915381868282 -14.8335054693994\n",
            "-0.301689734900029 -14.3464314398607\n",
            "-0.666618503709096 -12.0961612740981\n",
            "-0.949757965847410 -4.24739878300578\n",
            "-0.875384691712773 0.783076076316756\n",
            "-0.879659115954654 -0.0488290951663491\n"
          ],
          "name": "stdout"
        }
      ]
    },
    {
      "cell_type": "code",
      "metadata": {
        "colab": {
          "base_uri": "https://localhost:8080/",
          "height": 265
        },
        "id": "ChjrvO2UOqyo",
        "outputId": "8d2bcfff-0c02-4672-9338-b7567cd720cc"
      },
      "source": [
        "fig, ax = plt.subplots()\n",
        "\n",
        "ax.plot(x, eval(str(Y)))\n",
        "pointsY= [Y.evalf(subs={\"x\":point}) for point in points]\n",
        "ax.scatter(points, pointsY)\n",
        "\n",
        "for i, txt in enumerate(points):\n",
        "    ax.annotate(i, (points[i], pointsY[i]-10))"
      ],
      "execution_count": 21,
      "outputs": [
        {
          "output_type": "display_data",
          "data": {
            "image/png": "[encoded data removed]",
            "text/plain": [
              "<Figure size 432x288 with 1 Axes>"
            ]
          },
          "metadata": {
            "tags": [],
            "needs_background": "dark"
          }
        }
      ]
    }
  ]
}